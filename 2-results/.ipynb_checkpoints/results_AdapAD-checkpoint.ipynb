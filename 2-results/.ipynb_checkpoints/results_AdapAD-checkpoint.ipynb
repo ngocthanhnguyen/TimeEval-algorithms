{
 "cells": [
  {
   "cell_type": "code",
   "execution_count": 32,
   "id": "ed1b9ff9-d8af-46fc-8ab2-e23ba44c3e12",
   "metadata": {},
   "outputs": [],
   "source": [
    "import pandas as pd\n",
    "import os\n",
    "import numpy as np\n",
    "import sklearn"
   ]
  },
  {
   "cell_type": "code",
   "execution_count": 33,
   "id": "5932521d-76be-4eab-9e07-7dec3a9d0b0f",
   "metadata": {},
   "outputs": [
    {
     "data": {
      "text/html": [
       "<div>\n",
       "<style scoped>\n",
       "    .dataframe tbody tr th:only-of-type {\n",
       "        vertical-align: middle;\n",
       "    }\n",
       "\n",
       "    .dataframe tbody tr th {\n",
       "        vertical-align: top;\n",
       "    }\n",
       "\n",
       "    .dataframe thead th {\n",
       "        text-align: right;\n",
       "    }\n",
       "</style>\n",
       "<table border=\"1\" class=\"dataframe\">\n",
       "  <thead>\n",
       "    <tr style=\"text-align: right;\">\n",
       "      <th></th>\n",
       "      <th>Unnamed: 0</th>\n",
       "      <th>timestamp</th>\n",
       "      <th>observed</th>\n",
       "      <th>is_anomaly</th>\n",
       "    </tr>\n",
       "  </thead>\n",
       "  <tbody>\n",
       "    <tr>\n",
       "      <th>0</th>\n",
       "      <td>0</td>\n",
       "      <td>15/09/2021 03:30</td>\n",
       "      <td>0.29</td>\n",
       "      <td>0</td>\n",
       "    </tr>\n",
       "    <tr>\n",
       "      <th>1</th>\n",
       "      <td>1</td>\n",
       "      <td>15/09/2021 04:00</td>\n",
       "      <td>0.29</td>\n",
       "      <td>0</td>\n",
       "    </tr>\n",
       "    <tr>\n",
       "      <th>2</th>\n",
       "      <td>2</td>\n",
       "      <td>15/09/2021 04:30</td>\n",
       "      <td>0.29</td>\n",
       "      <td>0</td>\n",
       "    </tr>\n",
       "    <tr>\n",
       "      <th>3</th>\n",
       "      <td>3</td>\n",
       "      <td>15/09/2021 05:00</td>\n",
       "      <td>0.30</td>\n",
       "      <td>0</td>\n",
       "    </tr>\n",
       "    <tr>\n",
       "      <th>4</th>\n",
       "      <td>4</td>\n",
       "      <td>15/09/2021 05:30</td>\n",
       "      <td>0.29</td>\n",
       "      <td>0</td>\n",
       "    </tr>\n",
       "    <tr>\n",
       "      <th>...</th>\n",
       "      <td>...</td>\n",
       "      <td>...</td>\n",
       "      <td>...</td>\n",
       "      <td>...</td>\n",
       "    </tr>\n",
       "    <tr>\n",
       "      <th>27925</th>\n",
       "      <td>27925</td>\n",
       "      <td>19/04/2023 22:00</td>\n",
       "      <td>0.11</td>\n",
       "      <td>0</td>\n",
       "    </tr>\n",
       "    <tr>\n",
       "      <th>27926</th>\n",
       "      <td>27926</td>\n",
       "      <td>19/04/2023 22:30</td>\n",
       "      <td>0.11</td>\n",
       "      <td>0</td>\n",
       "    </tr>\n",
       "    <tr>\n",
       "      <th>27927</th>\n",
       "      <td>27927</td>\n",
       "      <td>19/04/2023 23:00</td>\n",
       "      <td>0.12</td>\n",
       "      <td>0</td>\n",
       "    </tr>\n",
       "    <tr>\n",
       "      <th>27928</th>\n",
       "      <td>27928</td>\n",
       "      <td>19/04/2023 23:30</td>\n",
       "      <td>0.11</td>\n",
       "      <td>0</td>\n",
       "    </tr>\n",
       "    <tr>\n",
       "      <th>27929</th>\n",
       "      <td>27929</td>\n",
       "      <td>20/04/2023 00:00</td>\n",
       "      <td>0.11</td>\n",
       "      <td>0</td>\n",
       "    </tr>\n",
       "  </tbody>\n",
       "</table>\n",
       "<p>27930 rows × 4 columns</p>\n",
       "</div>"
      ],
      "text/plain": [
       "       Unnamed: 0         timestamp  observed  is_anomaly\n",
       "0               0  15/09/2021 03:30      0.29           0\n",
       "1               1  15/09/2021 04:00      0.29           0\n",
       "2               2  15/09/2021 04:30      0.29           0\n",
       "3               3  15/09/2021 05:00      0.30           0\n",
       "4               4  15/09/2021 05:30      0.29           0\n",
       "...           ...               ...       ...         ...\n",
       "27925       27925  19/04/2023 22:00      0.11           0\n",
       "27926       27926  19/04/2023 22:30      0.11           0\n",
       "27927       27927  19/04/2023 23:00      0.12           0\n",
       "27928       27928  19/04/2023 23:30      0.11           0\n",
       "27929       27929  20/04/2023 00:00      0.11           0\n",
       "\n",
       "[27930 rows x 4 columns]"
      ]
     },
     "execution_count": 33,
     "metadata": {},
     "output_type": "execute_result"
    }
   ],
   "source": [
    "adapad_result = pd.read_csv(\"OURS_Wave_Height.csv\")\n",
    "adapad_result"
   ]
  },
  {
   "cell_type": "code",
   "execution_count": 34,
   "id": "7734322f-7dda-4843-a382-738958948cc2",
   "metadata": {},
   "outputs": [
    {
     "data": {
      "text/html": [
       "<div>\n",
       "<style scoped>\n",
       "    .dataframe tbody tr th:only-of-type {\n",
       "        vertical-align: middle;\n",
       "    }\n",
       "\n",
       "    .dataframe tbody tr th {\n",
       "        vertical-align: top;\n",
       "    }\n",
       "\n",
       "    .dataframe thead th {\n",
       "        text-align: right;\n",
       "    }\n",
       "</style>\n",
       "<table border=\"1\" class=\"dataframe\">\n",
       "  <thead>\n",
       "    <tr style=\"text-align: right;\">\n",
       "      <th></th>\n",
       "      <th>timestamp</th>\n",
       "      <th>value</th>\n",
       "      <th>is_anomaly</th>\n",
       "    </tr>\n",
       "  </thead>\n",
       "  <tbody>\n",
       "    <tr>\n",
       "      <th>0</th>\n",
       "      <td>15/09/2021 03:30</td>\n",
       "      <td>0.29</td>\n",
       "      <td>0</td>\n",
       "    </tr>\n",
       "    <tr>\n",
       "      <th>1</th>\n",
       "      <td>15/09/2021 04:00</td>\n",
       "      <td>0.29</td>\n",
       "      <td>0</td>\n",
       "    </tr>\n",
       "    <tr>\n",
       "      <th>2</th>\n",
       "      <td>15/09/2021 04:30</td>\n",
       "      <td>0.29</td>\n",
       "      <td>0</td>\n",
       "    </tr>\n",
       "    <tr>\n",
       "      <th>3</th>\n",
       "      <td>15/09/2021 05:00</td>\n",
       "      <td>0.30</td>\n",
       "      <td>0</td>\n",
       "    </tr>\n",
       "    <tr>\n",
       "      <th>4</th>\n",
       "      <td>15/09/2021 05:30</td>\n",
       "      <td>0.29</td>\n",
       "      <td>0</td>\n",
       "    </tr>\n",
       "    <tr>\n",
       "      <th>...</th>\n",
       "      <td>...</td>\n",
       "      <td>...</td>\n",
       "      <td>...</td>\n",
       "    </tr>\n",
       "    <tr>\n",
       "      <th>27973</th>\n",
       "      <td>20/04/2023 22:00</td>\n",
       "      <td>-999.00</td>\n",
       "      <td>1</td>\n",
       "    </tr>\n",
       "    <tr>\n",
       "      <th>27974</th>\n",
       "      <td>20/04/2023 22:30</td>\n",
       "      <td>-999.00</td>\n",
       "      <td>1</td>\n",
       "    </tr>\n",
       "    <tr>\n",
       "      <th>27975</th>\n",
       "      <td>20/04/2023 23:00</td>\n",
       "      <td>-999.00</td>\n",
       "      <td>1</td>\n",
       "    </tr>\n",
       "    <tr>\n",
       "      <th>27976</th>\n",
       "      <td>20/04/2023 23:30</td>\n",
       "      <td>-999.00</td>\n",
       "      <td>1</td>\n",
       "    </tr>\n",
       "    <tr>\n",
       "      <th>27977</th>\n",
       "      <td>21/04/2023 00:00</td>\n",
       "      <td>-999.00</td>\n",
       "      <td>1</td>\n",
       "    </tr>\n",
       "  </tbody>\n",
       "</table>\n",
       "<p>27978 rows × 3 columns</p>\n",
       "</div>"
      ],
      "text/plain": [
       "              timestamp   value  is_anomaly\n",
       "0      15/09/2021 03:30    0.29           0\n",
       "1      15/09/2021 04:00    0.29           0\n",
       "2      15/09/2021 04:30    0.29           0\n",
       "3      15/09/2021 05:00    0.30           0\n",
       "4      15/09/2021 05:30    0.29           0\n",
       "...                 ...     ...         ...\n",
       "27973  20/04/2023 22:00 -999.00           1\n",
       "27974  20/04/2023 22:30 -999.00           1\n",
       "27975  20/04/2023 23:00 -999.00           1\n",
       "27976  20/04/2023 23:30 -999.00           1\n",
       "27977  21/04/2023 00:00 -999.00           1\n",
       "\n",
       "[27978 rows x 3 columns]"
      ]
     },
     "execution_count": 34,
     "metadata": {},
     "output_type": "execute_result"
    }
   ],
   "source": [
    "label = pd.read_csv(\"../1-data/Wave_Height.label.final.csv\")\n",
    "label"
   ]
  },
  {
   "cell_type": "code",
   "execution_count": 35,
   "id": "4019c4bc-48fb-4116-bf53-7c084b1524fb",
   "metadata": {},
   "outputs": [],
   "source": [
    "label = label[:len(adapad_result)]"
   ]
  },
  {
   "cell_type": "code",
   "execution_count": 36,
   "id": "62010f55-8210-4e48-83e0-efcbac9443ee",
   "metadata": {},
   "outputs": [],
   "source": [
    "adapad_result_anomaly = adapad_result[\"is_anomaly\"]\n",
    "y_pred_scores = adapad_result_anomaly.values"
   ]
  },
  {
   "cell_type": "code",
   "execution_count": 37,
   "id": "b02661db-5d12-4f65-9343-6c2de3e316a2",
   "metadata": {},
   "outputs": [],
   "source": [
    "label_anomaly = label[\"is_anomaly\"]\n",
    "y_true = label_anomaly.values"
   ]
  },
  {
   "cell_type": "code",
   "execution_count": 38,
   "id": "3c3ce132-23d8-480e-a848-80bb4d30940f",
   "metadata": {},
   "outputs": [
    {
     "name": "stdout",
     "output_type": "stream",
     "text": [
      "Estimated ROC AUC: 0.9922785297222368\n"
     ]
    }
   ],
   "source": [
    "from sklearn.metrics import roc_auc_score\n",
    "roc_auc = roc_auc_score(y_true, y_pred_scores)\n",
    "print(\"Estimated ROC AUC:\", roc_auc)"
   ]
  },
  {
   "cell_type": "code",
   "execution_count": 40,
   "id": "a4dea61f-0627-4102-ba94-0ede54c0cce3",
   "metadata": {},
   "outputs": [
    {
     "data": {
      "text/plain": [
       "array([0, 0, 0, ..., 0, 0, 0])"
      ]
     },
     "execution_count": 40,
     "metadata": {},
     "output_type": "execute_result"
    }
   ],
   "source": [
    "y_true"
   ]
  },
  {
   "cell_type": "code",
   "execution_count": 41,
   "id": "0aaec539-d528-4d8e-b97e-0c0d7e7218e7",
   "metadata": {},
   "outputs": [
    {
     "data": {
      "text/plain": [
       "array([0, 0, 0, ..., 0, 0, 0])"
      ]
     },
     "execution_count": 41,
     "metadata": {},
     "output_type": "execute_result"
    }
   ],
   "source": [
    "y_pred_scores"
   ]
  },
  {
   "cell_type": "code",
   "execution_count": 39,
   "id": "2d16a04c-b1d6-4d38-9c4c-6b4d4425c2b4",
   "metadata": {},
   "outputs": [
    {
     "ename": "ValueError",
     "evalue": "too many values to unpack (expected 2)",
     "output_type": "error",
     "traceback": [
      "\u001b[0;31m---------------------------------------------------------------------------\u001b[0m",
      "\u001b[0;31mValueError\u001b[0m                                Traceback (most recent call last)",
      "Input \u001b[0;32mIn [39]\u001b[0m, in \u001b[0;36m<module>\u001b[0;34m\u001b[0m\n\u001b[1;32m      1\u001b[0m \u001b[38;5;28;01mfrom\u001b[39;00m \u001b[38;5;21;01msklearn\u001b[39;00m\u001b[38;5;21;01m.\u001b[39;00m\u001b[38;5;21;01mmetrics\u001b[39;00m \u001b[38;5;28;01mimport\u001b[39;00m precision_recall_curve\n\u001b[1;32m      2\u001b[0m \u001b[38;5;28;01mfrom\u001b[39;00m \u001b[38;5;21;01msklearn\u001b[39;00m\u001b[38;5;21;01m.\u001b[39;00m\u001b[38;5;21;01mmetrics\u001b[39;00m \u001b[38;5;28;01mimport\u001b[39;00m auc\n\u001b[0;32m----> 3\u001b[0m y, x \u001b[38;5;241m=\u001b[39m precision_recall_curve(y_true, y_pred_scores)\n\u001b[1;32m      4\u001b[0m pr_auc \u001b[38;5;241m=\u001b[39m auc(x, y)\n\u001b[1;32m      5\u001b[0m \u001b[38;5;28mprint\u001b[39m(\u001b[38;5;124m\"\u001b[39m\u001b[38;5;124mEstimated PR AUC:\u001b[39m\u001b[38;5;124m\"\u001b[39m, pr_auc)\n",
      "\u001b[0;31mValueError\u001b[0m: too many values to unpack (expected 2)"
     ]
    }
   ],
   "source": [
    "from sklearn.metrics import precision_recall_curve\n",
    "from sklearn.metrics import auc\n",
    "y, x, _ = precision_recall_curve(y_true, y_pred_scores)\n",
    "pr_auc = auc(x, y)\n",
    "print(\"Estimated PR AUC:\", pr_auc)"
   ]
  },
  {
   "cell_type": "code",
   "execution_count": null,
   "id": "ab694420-6e1f-4bb9-9b87-41fa0714505d",
   "metadata": {},
   "outputs": [],
   "source": []
  }
 ],
 "metadata": {
  "kernelspec": {
   "display_name": "Python 3 (ipykernel)",
   "language": "python",
   "name": "python3"
  },
  "language_info": {
   "codemirror_mode": {
    "name": "ipython",
    "version": 3
   },
   "file_extension": ".py",
   "mimetype": "text/x-python",
   "name": "python",
   "nbconvert_exporter": "python",
   "pygments_lexer": "ipython3",
   "version": "3.8.10"
  }
 },
 "nbformat": 4,
 "nbformat_minor": 5
}
